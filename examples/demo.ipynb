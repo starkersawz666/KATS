{
 "cells": [
  {
   "cell_type": "code",
   "execution_count": null,
   "id": "c94d0453",
   "metadata": {},
   "outputs": [],
   "source": [
    "import os\n",
    "import logging\n",
    "import json\n",
    "import sys\n",
    "\n",
    "from task_oriented_dataset_search.pipeline import TodsEngine, PipelineConfig\n",
    "\n",
    "API_KEY = os.environ.get(\"OPENAI_API_KEY\")\n",
    "SAMPLE_DATA_FOLDER = \"sample_docs\"\n",
    "\n",
    "logging.basicConfig(\n",
    "    level=logging.INFO,\n",
    "    format=\"%(asctime)s - %(name)s - %(levelname)s - %(message)s\",\n",
    "    handlers=[logging.StreamHandler(sys.stdout)],\n",
    ")\n",
    "logger = logging.getLogger(__name__)\n",
    "\n",
    "config = PipelineConfig(\n",
    "    input_folder=SAMPLE_DATA_FOLDER,\n",
    "    api_key=API_KEY,\n",
    "    preprocess_workers=10,\n",
    "    extract_workers=15,\n",
    "    retry_limit=5,\n",
    "    model=\"gpt-4o-mini\",\n",
    "    qa_model=\"gpt-4o\",\n",
    ")"
   ]
  },
  {
   "cell_type": "code",
   "execution_count": null,
   "id": "039b1d53",
   "metadata": {},
   "outputs": [],
   "source": [
    "engine = TodsEngine(config=config)\n",
    "engine.build()"
   ]
  },
  {
   "cell_type": "code",
   "execution_count": null,
   "id": "67125af3",
   "metadata": {},
   "outputs": [],
   "source": [
    "search_queries = [\n",
    "    \"image classification\",\n",
    "    \"natural language inference\",\n",
    "    \"object detection\"\n",
    "]\n",
    "for query in search_queries:\n",
    "    results = engine.search(query, top_k_datasets=3)\n",
    "    print(json.dumps(results, indent=2))"
   ]
  },
  {
   "cell_type": "code",
   "execution_count": null,
   "id": "f4eee81a",
   "metadata": {},
   "outputs": [],
   "source": [
    "for question in search_queries:\n",
    "    answer = engine.qa(question)\n",
    "    print(answer)"
   ]
  }
 ],
 "metadata": {
  "kernelspec": {
   "display_name": "tods_test",
   "language": "python",
   "name": "python3"
  },
  "language_info": {
   "codemirror_mode": {
    "name": "ipython",
    "version": 3
   },
   "file_extension": ".py",
   "mimetype": "text/x-python",
   "name": "python",
   "nbconvert_exporter": "python",
   "pygments_lexer": "ipython3",
   "version": "3.11.11"
  }
 },
 "nbformat": 4,
 "nbformat_minor": 5
}
