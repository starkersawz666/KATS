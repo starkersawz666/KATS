{
 "cells": [
  {
   "cell_type": "markdown",
   "id": "cf55ad89",
   "metadata": {},
   "source": [
    "### Select Baseline Data"
   ]
  },
  {
   "cell_type": "code",
   "execution_count": null,
   "id": "ee0f8943",
   "metadata": {
    "vscode": {
     "languageId": "plaintext"
    }
   },
   "outputs": [],
   "source": []
  }
 ],
 "metadata": {
  "language_info": {
   "name": "python"
  }
 },
 "nbformat": 4,
 "nbformat_minor": 5
}
